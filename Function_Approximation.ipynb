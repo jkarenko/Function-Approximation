{
  "nbformat": 4,
  "nbformat_minor": 0,
  "metadata": {
    "colab": {
      "name": "Function Approximation.ipynb",
      "provenance": [],
      "collapsed_sections": [],
      "authorship_tag": "ABX9TyMbJB/YarLlVBOpEOCJoVQu",
      "include_colab_link": true
    },
    "kernelspec": {
      "name": "python3",
      "display_name": "Python 3"
    },
    "language_info": {
      "name": "python"
    }
  },
  "cells": [
    {
      "cell_type": "markdown",
      "metadata": {
        "id": "view-in-github",
        "colab_type": "text"
      },
      "source": [
        "<a href=\"https://colab.research.google.com/github/jkarenko/Function-Approximation/blob/main/Function_Approximation.ipynb\" target=\"_parent\"><img src=\"https://colab.research.google.com/assets/colab-badge.svg\" alt=\"Open In Colab\"/></a>"
      ]
    },
    {
      "cell_type": "markdown",
      "source": [
        "genetic algorithm to approximate a transfer function"
      ],
      "metadata": {
        "id": "Dq_fnbkJHmuI"
      }
    },
    {
      "cell_type": "code",
      "execution_count": 478,
      "metadata": {
        "id": "wDjOpIFgHLtM"
      },
      "outputs": [],
      "source": [
        "import random\n",
        "import numpy as np\n",
        "import matplotlib.pyplot as plt"
      ]
    },
    {
      "cell_type": "code",
      "source": [
        "target = {\n",
        "    -1: -.88,\n",
        "    -.9: -.87,\n",
        "    -.8: -.86,\n",
        "    -.7: -.84,\n",
        "    -.6: -.80,\n",
        "    -.5: -.65,\n",
        "    -.4: -.50,\n",
        "    -.3: -.36,\n",
        "    -.2: -.23,\n",
        "    -.1: -.11,\n",
        "    0: 0,\n",
        "    .1: .11,\n",
        "    .2: .26,\n",
        "    .3: .39,\n",
        "    .4: .54,\n",
        "    .5: .64,\n",
        "    .6: .82,\n",
        "    .7: .86,\n",
        "    .8: .87,\n",
        "    .9: .88,\n",
        "    1: .88\n",
        "}\n",
        "\n",
        "#list(target.values())"
      ],
      "metadata": {
        "id": "p_yNXHaNHphg"
      },
      "execution_count": 549,
      "outputs": []
    },
    {
      "cell_type": "code",
      "source": [
        "for i, k in enumerate({.1:.3, .4:.56}):\n",
        "  print(i, k)"
      ],
      "metadata": {
        "colab": {
          "base_uri": "https://localhost:8080/"
        },
        "id": "Lxzfv0fsIZ3e",
        "outputId": "62ec888a-7899-4b43-ba7b-441a3be4ccf0"
      },
      "execution_count": 449,
      "outputs": [
        {
          "output_type": "stream",
          "name": "stdout",
          "text": [
            "0 0.1\n",
            "1 0.4\n"
          ]
        }
      ]
    },
    {
      "cell_type": "code",
      "source": [
        "class Genome:\n",
        "  def __init__(self, n) -> None:\n",
        "    self.n = n\n",
        "    self.fitness = float(\"inf\")\n",
        "    self.lookup_table = {}\n",
        "    self.transfer_function = \"\"\n",
        "  def _get_equation(self):\n",
        "    equation = \"\"\n",
        "    for nth in self.n:\n",
        "      value = self.n[nth]\n",
        "      equation = f\" + {value} * X ** {nth}\" + equation\n",
        "    return equation\n",
        "  def __str__(self):\n",
        "    newline = \"\\n\"\n",
        "    return f\"Function={self._get_equation()}\\nfitness={self.fitness}\\nValues from input:\\n{f'{newline}'.join(list(map(lambda x: f'{x} -> {self.lookup_table[x]}', self.lookup_table.keys())))}\"\n"
      ],
      "metadata": {
        "id": "R7m4I5nEYCds"
      },
      "execution_count": 476,
      "outputs": []
    },
    {
      "cell_type": "code",
      "source": [
        "def f(input, n):\n",
        "  equation = \"\"\n",
        "  for nth in n:\n",
        "    value = n[nth]\n",
        "    equation = f\" + {value} * {input} ** {nth}\" + equation\n",
        "  return eval(equation)\n",
        "#res = f(0.1, {1: .23, 2: .6, 3: .83})\n",
        "#print(res)"
      ],
      "metadata": {
        "id": "pOKHJTuJIbuD"
      },
      "execution_count": 459,
      "outputs": []
    },
    {
      "cell_type": "code",
      "source": [
        "def test_fitness(input, genome, target):\n",
        "  results = {}\n",
        "  for i in input:\n",
        "    results[i] = f(i, genome.n)\n",
        "  fitness = 0\n",
        "  for in_val in results:\n",
        "    out_val = results[in_val]\n",
        "    target_val = target[in_val]\n",
        "    if out_val < 0 and target_val < 0:\n",
        "      fitness = fitness + abs(abs(target_val) - abs(out_val))\n",
        "    elif out_val < 0 and target_val >= 0:\n",
        "      fitness = fitness + target_val + abs(out_val)\n",
        "    elif out_val >= 0 and target_val < 0:\n",
        "      fitness = fitness + abs(target_val) + out_val\n",
        "    else:\n",
        "      fitness = fitness + abs(target_val - out_val)\n",
        "  genome.fitness = fitness / len(target)\n",
        "  genome.lookup_table = results\n",
        "  return genome"
      ],
      "metadata": {
        "id": "09QdqHJBJdFZ"
      },
      "execution_count": 528,
      "outputs": []
    },
    {
      "cell_type": "code",
      "source": [
        "def make_random_genome(order):\n",
        "  n = {}\n",
        "  for i in range(1, order + 1):\n",
        "    n[i] = np.random.uniform(-1, 1)\n",
        "  return Genome(n)\n",
        "#make_random_genome(order=4).n"
      ],
      "metadata": {
        "id": "3BIHvdwxq_cY"
      },
      "execution_count": 462,
      "outputs": []
    },
    {
      "cell_type": "code",
      "source": [
        "def new_genome_from_parents(p1, p2, mutation=.02):\n",
        "  n = {}\n",
        "  for i in p1.n:\n",
        "    n[i] = np.random.choice((p1.n[i], p2.n[i])) * (1 + np.random.uniform(-1 * mutation, mutation))\n",
        "  return Genome(n)\n",
        "#new_genome_from_parents(make_random_genome(4), make_random_genome(4)).n"
      ],
      "metadata": {
        "id": "MdCleVYd2JTF"
      },
      "execution_count": 535,
      "outputs": []
    },
    {
      "cell_type": "code",
      "source": [
        "#input_values = np.round(np.arange(-1, 1, 0.1), decimals=2)\n",
        "input_values = target.keys()\n",
        "\n",
        "candidates = []\n",
        "for _ in range(0,10):\n",
        "  candidates.append(make_random_genome(order=12))\n",
        "num_generations = 2000\n",
        "for generation in range(0, num_generations):\n",
        "\n",
        "  for genome in candidates:\n",
        "    genome = test_fitness(input_values, genome, target).fitness\n",
        "\n",
        "  candidates.sort(key = lambda x: x.fitness)\n",
        "\n",
        "  best_genomes = candidates[:3]\n",
        "\n",
        "  # print(f\"\\nBest of generation {generation}: {best_genomes[0].fitness}\")\n",
        "\n",
        "  new_generation = []\n",
        "  new_generation.append(new_genome_from_parents(best_genomes[0], best_genomes[1]))\n",
        "  new_generation.append(new_genome_from_parents(best_genomes[0], best_genomes[1]))\n",
        "  new_generation.append(new_genome_from_parents(best_genomes[0], best_genomes[1]))\n",
        "  new_generation.append(new_genome_from_parents(best_genomes[1], best_genomes[2]))\n",
        "  new_generation.append(new_genome_from_parents(best_genomes[1], best_genomes[2]))\n",
        "  new_generation.append(new_genome_from_parents(best_genomes[0], best_genomes[2]))\n",
        "  new_generation.append(new_genome_from_parents(best_genomes[0], best_genomes[2]))\n",
        "\n",
        "  candidates = best_genomes + new_generation\n",
        "\n",
        "winner = candidates[0]\n",
        "print(f\"Best genome after {num_generations} generations:\")\n",
        "print(winner)\n",
        "for i, k in enumerate(target):\n",
        "  print(f\"{k} -> {target[k]}\")"
      ],
      "metadata": {
        "colab": {
          "base_uri": "https://localhost:8080/"
        },
        "id": "NknBr-INJ8FG",
        "outputId": "79f13746-7366-4f0b-e7d5-3d4a6856b979"
      },
      "execution_count": 558,
      "outputs": [
        {
          "output_type": "stream",
          "name": "stdout",
          "text": [
            "Best genome after 2000 generations:\n",
            "Function= + -0.23518836114582345 * X ** 12 + -0.2690691076961011 * X ** 11 + 0.8654592725941679 * X ** 10 + -0.46991929820651324 * X ** 9 + -0.12319909256023824 * X ** 8 + 0.2813236229069797 * X ** 7 + 0.30688828092316117 * X ** 6 + 0.282844611389001 * X ** 5 + -0.5893364316422145 * X ** 4 + -1.6709408878755039 * X ** 3 + 1.4768948384431333 * X ** 2 + 1.0235662627212687 * X ** 1\n",
            "fitness=0.016563901366787568\n",
            "Values from input:\n",
            "-1 -> -0.8793237098513174\n",
            "-0.9 -> -0.8931976400286495\n",
            "-0.8 -> -0.8691932753117244\n",
            "-0.7 -> -0.8221597322743928\n",
            "-0.6 -> -0.749648100832812\n",
            "-0.5 -> -0.6503948843611773\n",
            "-0.4 -> -0.5281883059265216\n",
            "-0.3 -> -0.3910611209459793\n",
            "-0.2 -> -0.24959185891714933\n",
            "-0.1 -> -0.11539886197398543\n",
            "0 -> 0.0\n",
            "0.1 -> 0.11539886197398543\n",
            "0.2 -> 0.24959185891714933\n",
            "0.3 -> 0.3910611209459793\n",
            "0.4 -> 0.5281883059265216\n",
            "0.5 -> 0.6503948843611773\n",
            "0.6 -> 0.749648100832812\n",
            "0.7 -> 0.8221597322743928\n",
            "0.8 -> 0.8691932753117244\n",
            "0.9 -> 0.8931976400286495\n",
            "1 -> 0.8793237098513174\n",
            "-1 -> -0.88\n",
            "-0.9 -> -0.87\n",
            "-0.8 -> -0.86\n",
            "-0.7 -> -0.84\n",
            "-0.6 -> -0.8\n",
            "-0.5 -> -0.65\n",
            "-0.4 -> -0.5\n",
            "-0.3 -> -0.36\n",
            "-0.2 -> -0.23\n",
            "-0.1 -> -0.11\n",
            "0 -> 0\n",
            "0.1 -> 0.11\n",
            "0.2 -> 0.26\n",
            "0.3 -> 0.39\n",
            "0.4 -> 0.54\n",
            "0.5 -> 0.64\n",
            "0.6 -> 0.82\n",
            "0.7 -> 0.86\n",
            "0.8 -> 0.87\n",
            "0.9 -> 0.88\n",
            "1 -> 0.88\n"
          ]
        }
      ]
    },
    {
      "cell_type": "code",
      "source": [
        "print(list(winner.lookup_table.values()))"
      ],
      "metadata": {
        "colab": {
          "base_uri": "https://localhost:8080/"
        },
        "id": "8bv1HCjC9Ppx",
        "outputId": "436c8796-b9f8-4191-d4f6-e2b6155c1b27"
      },
      "execution_count": 498,
      "outputs": [
        {
          "output_type": "stream",
          "name": "stdout",
          "text": [
            "[0.8801234847152333, 0.8726487997014409, 0.8857090108228574, 0.8572668698950923, 0.7786477160920258, 0.6631254780819734, 0.528481348683459, 0.38895104448408624, 0.25287379989218917, 0.1233293060978738, 0.0, -0.1233293060978738, -0.25287379989218917, -0.38895104448408624, -0.528481348683459, -0.6631254780819734, -0.7786477160920258, -0.8572668698950923, -0.8857090108228574, -0.8726487997014409, -0.8801234847152333]\n"
          ]
        }
      ]
    },
    {
      "cell_type": "code",
      "source": [
        "input = list(winner.lookup_table.keys())\n",
        "output = list(winner.lookup_table.values())\n",
        "target_values = list(target.values())\n",
        "\n",
        "plt.plot(input, output, label=\"approximated\")\n",
        "plt.plot(input, target_values, label=\"target\")\n",
        "plt.legend()\n",
        "plt.ylabel(\"output\")\n",
        "plt.xlabel(\"input\")\n",
        "plt.show()"
      ],
      "metadata": {
        "colab": {
          "base_uri": "https://localhost:8080/",
          "height": 279
        },
        "id": "NZ87GhtP8UHN",
        "outputId": "536c09ee-985b-4151-934c-20a358468982"
      },
      "execution_count": 559,
      "outputs": [
        {
          "output_type": "display_data",
          "data": {
            "text/plain": [
              "<Figure size 432x288 with 1 Axes>"
            ],
            "image/png": "[encoded data removed]"
          },
          "metadata": {
            "needs_background": "light"
          }
        }
      ]
    }
  ]
}