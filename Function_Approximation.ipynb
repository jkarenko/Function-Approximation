{
  "nbformat": 4,
  "nbformat_minor": 0,
  "metadata": {
    "colab": {
      "name": "Function Approximation.ipynb",
      "provenance": [],
      "collapsed_sections": [],
      "authorship_tag": "ABX9TyPZQo9elY4lsgS57foNDGC+",
      "include_colab_link": true
    },
    "kernelspec": {
      "name": "python3",
      "display_name": "Python 3"
    },
    "language_info": {
      "name": "python"
    }
  },
  "cells": [
    {
      "cell_type": "markdown",
      "metadata": {
        "id": "view-in-github",
        "colab_type": "text"
      },
      "source": [
        "<a href=\"https://colab.research.google.com/github/jkarenko/Function-Approximation/blob/main/Function_Approximation.ipynb\" target=\"_parent\"><img src=\"https://colab.research.google.com/assets/colab-badge.svg\" alt=\"Open In Colab\"/></a>"
      ]
    },
    {
      "cell_type": "markdown",
      "source": [
        "genetic algorithm to approximate a transfer function"
      ],
      "metadata": {
        "id": "Dq_fnbkJHmuI"
      }
    },
    {
      "cell_type": "code",
      "execution_count": 1,
      "metadata": {
        "id": "wDjOpIFgHLtM"
      },
      "outputs": [],
      "source": [
        "import random\n",
        "import numpy as np\n",
        "import matplotlib.pyplot as plt"
      ]
    },
    {
      "cell_type": "code",
      "source": [
        "target_neg = {\n",
        "    -1: -.58,\n",
        "    -.9: -.57,\n",
        "    -.8: -.56,\n",
        "    -.7: -.54,\n",
        "    -.6: -.50,\n",
        "    -.5: -.45,\n",
        "    -.4: -.40,\n",
        "    -.3: -.36,\n",
        "    -.2: -.23,\n",
        "    -.1: -.11,\n",
        "    0: 0,\n",
        "}\n",
        "target_pos = {\n",
        "    0: 0,\n",
        "    .1: .11,\n",
        "    .2: .26,\n",
        "    .3: .39,\n",
        "    .4: .54,\n",
        "    .5: .64,\n",
        "    .6: .82,\n",
        "    .7: .86,\n",
        "    .8: .87,\n",
        "    .9: .88,\n",
        "    1: .88\n",
        "}\n",
        "\n",
        "#list(target.values())"
      ],
      "metadata": {
        "id": "p_yNXHaNHphg"
      },
      "execution_count": 60,
      "outputs": []
    },
    {
      "cell_type": "code",
      "source": [
        "for i, k in enumerate({.1:.3, .4:.56}):\n",
        "  print(i, k)"
      ],
      "metadata": {
        "colab": {
          "base_uri": "https://localhost:8080/"
        },
        "id": "Lxzfv0fsIZ3e",
        "outputId": "23eb6e4f-7d38-44ee-d8e7-b4e23f52856b"
      },
      "execution_count": 3,
      "outputs": [
        {
          "output_type": "stream",
          "name": "stdout",
          "text": [
            "0 0.1\n",
            "1 0.4\n"
          ]
        }
      ]
    },
    {
      "cell_type": "code",
      "source": [
        "class Genome:\n",
        "  def __init__(self, n) -> None:\n",
        "    self.n = n\n",
        "    self.fitness = float(\"inf\")\n",
        "    self.lookup_table = {}\n",
        "    self.transfer_function = \"\"\n",
        "  def _get_equation(self):\n",
        "    equation = \"\"\n",
        "    for nth in self.n:\n",
        "      value = self.n[nth]\n",
        "      equation = f\" + {value} * X ** {nth}\" + equation\n",
        "    return equation\n",
        "  def __str__(self):\n",
        "    newline = \"\\n\"\n",
        "    return f\"Function={self._get_equation()}\\nfitness={self.fitness}\\nValues from input:\\n{f'{newline}'.join(list(map(lambda x: f'{x} -> {self.lookup_table[x]}', self.lookup_table.keys())))}\"\n"
      ],
      "metadata": {
        "id": "R7m4I5nEYCds"
      },
      "execution_count": 4,
      "outputs": []
    },
    {
      "cell_type": "code",
      "source": [
        "def f(input, n):\n",
        "  equation = \"\"\n",
        "  for nth in n:\n",
        "    value = n[nth]\n",
        "    equation = f\" + {value} * {input} ** {nth}\" + equation\n",
        "  return eval(equation)\n",
        "#res = f(0.1, {1: .23, 2: .6, 3: .83})\n",
        "#print(res)"
      ],
      "metadata": {
        "id": "pOKHJTuJIbuD"
      },
      "execution_count": 5,
      "outputs": []
    },
    {
      "cell_type": "code",
      "source": [
        "def test_fitness(input, genome, target):\n",
        "  results = {}\n",
        "  for i in input:\n",
        "    results[i] = f(i, genome.n)\n",
        "  fitness = 0\n",
        "  for in_val in results:\n",
        "    out_val = results[in_val]\n",
        "    target_val = target[in_val]\n",
        "    if out_val < 0 and target_val < 0:\n",
        "      fitness = fitness + abs(abs(target_val) - abs(out_val))\n",
        "    elif out_val < 0 and target_val >= 0:\n",
        "      fitness = fitness + target_val + abs(out_val)\n",
        "    elif out_val >= 0 and target_val < 0:\n",
        "      fitness = fitness + abs(target_val) + out_val\n",
        "    else:\n",
        "      fitness = fitness + abs(target_val - out_val)\n",
        "  genome.fitness = fitness / len(target)\n",
        "  genome.lookup_table = results\n",
        "  return genome"
      ],
      "metadata": {
        "id": "09QdqHJBJdFZ"
      },
      "execution_count": 6,
      "outputs": []
    },
    {
      "cell_type": "code",
      "source": [
        "def make_random_genome(order):\n",
        "  n = {}\n",
        "  for i in range(1, order + 1):\n",
        "    n[i] = np.random.uniform(-1, 1)\n",
        "  return Genome(n)\n",
        "#make_random_genome(order=4).n"
      ],
      "metadata": {
        "id": "3BIHvdwxq_cY"
      },
      "execution_count": 7,
      "outputs": []
    },
    {
      "cell_type": "code",
      "source": [
        "def new_genome_from_parents(p1, p2, mutation=.05):\n",
        "  n = {}\n",
        "  for i in p1.n:\n",
        "    n[i] = np.random.choice((p1.n[i], p2.n[i])) * (1 + np.random.uniform(-1 * mutation, mutation))\n",
        "  return Genome(n)\n",
        "#new_genome_from_parents(make_random_genome(4), make_random_genome(4)).n"
      ],
      "metadata": {
        "id": "MdCleVYd2JTF"
      },
      "execution_count": 8,
      "outputs": []
    },
    {
      "cell_type": "code",
      "source": [
        "from IPython.core.display import Math\n",
        "#input_values = np.round(np.arange(-1, 1, 0.1), decimals=2)\n",
        "\n",
        "winner = {}\n",
        "num_candidates = 100\n",
        "num_generations = 100\n",
        "num_of_best = int(np.floor(num_candidates/10))\n",
        "num_mates_for_best = 10\n",
        "order = 9\n",
        "\n",
        "for index, target in enumerate([target_pos, target_neg]):\n",
        "  input_values = target.keys()\n",
        "  candidates = []\n",
        "  for _ in range(0,num_candidates):\n",
        "    candidates.append(make_random_genome(order))\n",
        "  for generation in range(0, num_generations):\n",
        "\n",
        "    for genome in candidates:\n",
        "      genome = test_fitness(input_values, genome, target).fitness\n",
        "\n",
        "    candidates.sort(key = lambda x: x.fitness)\n",
        "\n",
        "    best_genomes = candidates[:num_of_best]\n",
        "\n",
        "    # print(f\"\\nBest of generation {generation}: {best_genomes[0].fitness}\")\n",
        "\n",
        "    new_generation = []\n",
        "    for i in range(0, num_of_best):\n",
        "      for j in range(i + 1, i + num_mates_for_best):\n",
        "        new_generation.append(new_genome_from_parents(best_genomes[i], candidates[j]))\n",
        "      \n",
        "    candidates = best_genomes + new_generation\n",
        "    # print(len(candidates))\n",
        "\n",
        "  winner[index] = candidates[0]\n",
        "  print(f\"Best genome after {num_generations} generations:\")\n",
        "  print(winner[index])\n",
        "  for i, k in enumerate(target):\n",
        "    print(f\"{k} -> {target[k]}\")"
      ],
      "metadata": {
        "colab": {
          "base_uri": "https://localhost:8080/"
        },
        "id": "NknBr-INJ8FG",
        "outputId": "a4639758-c097-41c0-f4b7-5a073c1e27b8"
      },
      "execution_count": 108,
      "outputs": [
        {
          "output_type": "stream",
          "name": "stdout",
          "text": [
            "Best genome after 100 generations:\n",
            "Function= + 0.11430987271415409 * X ** 9 + 0.5991616022582326 * X ** 8 + 0.10262975118846397 * X ** 7 + -0.6637466122617326 * X ** 6 + -0.4163592452246088 * X ** 5 + -0.5090546736210487 * X ** 4 + -0.2995417551601044 * X ** 3 + 0.8578616367206775 * X ** 2 + 1.094531028599062 * X ** 1\n",
            "fitness=0.01013202583343596\n",
            "Values from input:\n",
            "0 -> 0.0\n",
            "0.1 -> 0.11767646103442728\n",
            "0.2 -> 0.2498370409690802\n",
            "0.3 -> 0.39192426747322534\n",
            "0.4 -> 0.5364763573243395\n",
            "0.5 -> 0.6724555511636391\n",
            "0.6 -> 0.7856190151999285\n",
            "0.7 -> 0.8610957403618908\n",
            "0.8 -> 0.8897403744234151\n",
            "0.9 -> 0.8802839084176417\n",
            "1 -> 0.8797916052130956\n",
            "0 -> 0\n",
            "0.1 -> 0.11\n",
            "0.2 -> 0.26\n",
            "0.3 -> 0.39\n",
            "0.4 -> 0.54\n",
            "0.5 -> 0.64\n",
            "0.6 -> 0.82\n",
            "0.7 -> 0.86\n",
            "0.8 -> 0.87\n",
            "0.9 -> 0.88\n",
            "1 -> 0.88\n",
            "Best genome after 100 generations:\n",
            "Function= + 0.7726604541538957 * X ** 9 + -0.5880645118261537 * X ** 8 + -0.006806533227525455 * X ** 7 + -0.0061098964957593685 * X ** 6 + -0.10838725678954532 * X ** 5 + -0.45507318673663777 * X ** 4 + 0.09954339839088176 * X ** 3 + -0.18375182077912688 * X ** 2 + 1.0585991192662418 * X ** 1\n",
            "fitness=0.015538612709190318\n",
            "Values from input:\n",
            "-1 -> -0.5826097659562708\n",
            "-0.9 -> -0.5535916688832838\n",
            "-0.8 -> -0.5603448076178219\n",
            "-0.7 -> -0.5536441755293433\n",
            "-0.6 -> -0.5205383208804333\n",
            "-0.5 -> -0.4630386855680984\n",
            "-0.4 -> -0.38743135117240673\n",
            "-0.3 -> -0.2997509524794755\n",
            "-0.2 -> -0.2044017091882603\n",
            "-0.1 -> -0.10407533402744777\n",
            "0 -> 0.0\n",
            "-1 -> -0.58\n",
            "-0.9 -> -0.57\n",
            "-0.8 -> -0.56\n",
            "-0.7 -> -0.54\n",
            "-0.6 -> -0.5\n",
            "-0.5 -> -0.45\n",
            "-0.4 -> -0.4\n",
            "-0.3 -> -0.36\n",
            "-0.2 -> -0.23\n",
            "-0.1 -> -0.11\n",
            "0 -> 0\n"
          ]
        }
      ]
    },
    {
      "cell_type": "code",
      "source": [
        "print(list(winner.lookup_table.values()))"
      ],
      "metadata": {
        "colab": {
          "base_uri": "https://localhost:8080/"
        },
        "id": "8bv1HCjC9Ppx",
        "outputId": "c4c18930-7f6d-4490-ae8b-75a4d9b7d25f"
      },
      "execution_count": 10,
      "outputs": [
        {
          "output_type": "stream",
          "name": "stdout",
          "text": [
            "[-0.6251083449231882, -0.693911203832599, -0.6941275892743072, -0.648397527200095, -0.5741431108784485, -0.48417253709022323, -0.38728414232430886, -0.2888704389732945, -0.19152215152913393, -0.09563225277880995, 0.0, 0.09563225277880995, 0.19152215152913393, 0.2888704389732945, 0.38728414232430886, 0.48417253709022323, 0.5741431108784485, 0.648397527200095, 0.6941275892743072, 0.693911203832599, 0.6251083449231882]\n"
          ]
        }
      ]
    },
    {
      "cell_type": "code",
      "source": [
        "input_pos = list(winner[0].lookup_table.keys())\n",
        "output_pos = list(winner[0].lookup_table.values())\n",
        "target_values_pos = list(target_pos.values())\n",
        "\n",
        "input_neg = list(winner[1].lookup_table.keys())\n",
        "output_neg = list(winner[1].lookup_table.values())\n",
        "target_values_neg = list(target_neg.values())\n",
        "\n",
        "plt.plot(input_pos, output_pos, label=\"approximated\")\n",
        "plt.plot(input_pos, target_values_pos, label=\"target\")\n",
        "\n",
        "plt.plot(input_neg, output_neg, label=\"approximated\")\n",
        "plt.plot(input_neg, target_values_neg, label=\"target\")\n",
        "\n",
        "plt.legend()\n",
        "\n",
        "plt.xlim(-1, 1)\n",
        "plt.ylim(-1, 1)\n",
        "\n",
        "plt.ylabel(\"output\")\n",
        "plt.xlabel(\"input\")\n",
        "plt.show()"
      ],
      "metadata": {
        "colab": {
          "base_uri": "https://localhost:8080/",
          "height": 283
        },
        "id": "NZ87GhtP8UHN",
        "outputId": "936ba21c-ba67-458d-ffce-4c1d65f2b826"
      },
      "execution_count": 109,
      "outputs": [
        {
          "output_type": "display_data",
          "data": {
            "text/plain": [
              "<Figure size 432x288 with 1 Axes>"
            ],
            "image/png": "[encoded data removed]"
          },
          "metadata": {
            "needs_background": "light"
          }
        }
      ]
    }
  ]
}