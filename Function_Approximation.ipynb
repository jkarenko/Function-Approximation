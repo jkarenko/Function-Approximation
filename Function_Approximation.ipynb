{
  "nbformat": 4,
  "nbformat_minor": 0,
  "metadata": {
    "colab": {
      "name": "Function Approximation.ipynb",
      "provenance": [],
      "collapsed_sections": [],
      "authorship_tag": "ABX9TyN8iRA4NzzjWj9PRAoNiAsG",
      "include_colab_link": true
    },
    "kernelspec": {
      "name": "python3",
      "display_name": "Python 3"
    },
    "language_info": {
      "name": "python"
    }
  },
  "cells": [
    {
      "cell_type": "markdown",
      "metadata": {
        "id": "view-in-github",
        "colab_type": "text"
      },
      "source": [
        "<a href=\"https://colab.research.google.com/github/jkarenko/Function-Approximation/blob/main/Function_Approximation.ipynb\" target=\"_parent\"><img src=\"https://colab.research.google.com/assets/colab-badge.svg\" alt=\"Open In Colab\"/></a>"
      ]
    },
    {
      "cell_type": "markdown",
      "source": [
        "genetic algorithm to approximate a transfer function"
      ],
      "metadata": {
        "id": "Dq_fnbkJHmuI"
      }
    },
    {
      "cell_type": "code",
      "execution_count": 822,
      "metadata": {
        "id": "wDjOpIFgHLtM"
      },
      "outputs": [],
      "source": [
        "import random\n",
        "import numpy as np\n",
        "import matplotlib.pyplot as plt\n",
        "from fractions import Fraction\n",
        "from decimal import Decimal"
      ]
    },
    {
      "cell_type": "code",
      "source": [
        "target_neg = {\n",
        "    -1: -.58,\n",
        "    -.9: -.57,\n",
        "    -.8: -.56,\n",
        "    -.7: -.54,\n",
        "    -.6: -.50,\n",
        "    -.5: -.45,\n",
        "    -.4: -.40,\n",
        "    -.3: -.36,\n",
        "    -.2: -.23,\n",
        "    -.1: -.11,\n",
        "    0: 0,\n",
        "}\n",
        "target_pos = {\n",
        "    0.: 0.,\n",
        "    .1: .11,\n",
        "    .2: .26,\n",
        "    .3: .39,\n",
        "    .4: .54,\n",
        "    .5: .64,\n",
        "    .6: .82,\n",
        "    .7: .86,\n",
        "    .8: .87,\n",
        "    .9: .88,\n",
        "    1: .88\n",
        "}\n",
        "\n",
        "pos = list(target_pos.values())\n",
        "np.asarray(pos)*.5"
      ],
      "metadata": {
        "colab": {
          "base_uri": "https://localhost:8080/"
        },
        "id": "p_yNXHaNHphg",
        "outputId": "4dc744d3-d6f1-4da0-c9c2-de7209cc39cc"
      },
      "execution_count": 823,
      "outputs": [
        {
          "output_type": "execute_result",
          "data": {
            "text/plain": [
              "array([0.   , 0.055, 0.13 , 0.195, 0.27 , 0.32 , 0.41 , 0.43 , 0.435,\n",
              "       0.44 , 0.44 ])"
            ]
          },
          "metadata": {},
          "execution_count": 823
        }
      ]
    },
    {
      "cell_type": "code",
      "source": [
        "class Genome:\n",
        "  def __init__(self, n) -> None:\n",
        "    self.n = n\n",
        "    self.fitness = float(\"inf\")\n",
        "    self.lookup_table = {}\n",
        "    self.transfer_function = \"\"\n",
        "\n",
        "  def get_equation(self):\n",
        "    equation = \"\"\n",
        "    for i, nth in enumerate(self.n):\n",
        "      value = self.n[nth]\n",
        "      #value_frac = Fraction(np.round(value, decimals=4)).limit_denominator(1000)\n",
        "      value_frac = Fraction(value).limit_denominator(100)\n",
        "      fraction_str = r\"{\"+str(abs(value_frac.numerator))+\"}{\"+str(value_frac.denominator)+\"}\"\n",
        "      x = r\"\\mathcal{x}\"\n",
        "      new_part = r\"\\frac{} {}\".format(fraction_str, x)\n",
        "      if i > 0:\n",
        "        new_part = new_part + \"^{}\".format(nth)\n",
        "      equation = new_part + equation\n",
        "      if i < len(self.n) - 1 and value >= 0:\n",
        "        equation = \" + \" + equation\n",
        "      elif value < 0:\n",
        "        equation = \" - \" + equation\n",
        "    #equation = \"f(x) = \" + equation\n",
        "    return equation\n",
        "\n",
        "  def get_equation_math(self):\n",
        "    equation = \"\"\n",
        "    for i, nth in enumerate(self.n):\n",
        "      value = np.round(self.n[nth], decimals=4)\n",
        "      new_part = str(value) + \"*x\"\n",
        "      if i > 0:\n",
        "        new_part = new_part + \"**{}\".format(nth)\n",
        "      equation = new_part + equation\n",
        "      if i < len(self.n) - 1 and value >= 0:\n",
        "        equation = \"+\" + equation\n",
        "      #elif value < 0:\n",
        "      #  equation = \"-\" + equation\n",
        "    return equation\n",
        "\n",
        "  def __str__(self):\n",
        "    newline = \"\\n\"\n",
        "    return f\"Function={self.get_equation()}\\nfitness={self.fitness}\\nValues from input:\\n{f'{newline}'.join(list(map(lambda x: f'{x} -> {self.lookup_table[x]}', self.lookup_table.keys())))}\"\n"
      ],
      "metadata": {
        "id": "R7m4I5nEYCds"
      },
      "execution_count": 824,
      "outputs": []
    },
    {
      "cell_type": "code",
      "source": [
        "def f(input, n):\n",
        "  equation = \"\"\n",
        "  for i, nth in enumerate(n):\n",
        "    value = n[nth]\n",
        "    equation = f\"{value} * {input} ** {nth}\" + equation\n",
        "    if i < len(n) - 1:\n",
        "      equation = \" + \" + equation\n",
        "  #print(equation)\n",
        "  return eval(equation)\n",
        "#res = f(0.1, {1: .23, 2: .6, 3: .83})\n",
        "#print(res)"
      ],
      "metadata": {
        "id": "pOKHJTuJIbuD"
      },
      "execution_count": 825,
      "outputs": []
    },
    {
      "cell_type": "code",
      "source": [
        "def test_fitness(input, genome, target):\n",
        "  results = {}\n",
        "  for i in input:\n",
        "    results[i] = f(i, genome.n)\n",
        "  fitness = 0\n",
        "  for in_val in results:\n",
        "    out_val = results[in_val]\n",
        "    target_val = target[in_val]\n",
        "    if out_val < 0 and target_val < 0:\n",
        "      fitness = fitness + abs(abs(target_val) - abs(out_val))\n",
        "    elif out_val < 0 and target_val >= 0:\n",
        "      fitness = fitness + target_val + abs(out_val)\n",
        "    elif out_val >= 0 and target_val < 0:\n",
        "      fitness = fitness + abs(target_val) + out_val\n",
        "    else:\n",
        "      fitness = fitness + abs(target_val - out_val)\n",
        "  genome.fitness = fitness / len(target)\n",
        "  genome.lookup_table = results\n",
        "  return genome"
      ],
      "metadata": {
        "id": "09QdqHJBJdFZ"
      },
      "execution_count": 826,
      "outputs": []
    },
    {
      "cell_type": "code",
      "source": [
        "def make_random_genome(order):\n",
        "  n = {}\n",
        "  for i in range(1, order + 1):\n",
        "    n[i] = np.random.uniform(-1, 1)\n",
        "  return Genome(n)\n",
        "#make_random_genome(order=4).n"
      ],
      "metadata": {
        "id": "3BIHvdwxq_cY"
      },
      "execution_count": 827,
      "outputs": []
    },
    {
      "cell_type": "code",
      "source": [
        "def new_genome_from_parents(p1, p2, mutation=.05):\n",
        "  n = {}\n",
        "  for i in p1.n:\n",
        "    n[i] = np.random.choice((p1.n[i], p2.n[i])) * (1 + np.random.uniform(-1 * mutation, mutation))\n",
        "  return Genome(n)\n",
        "#new_genome_from_parents(make_random_genome(4), make_random_genome(4)).n"
      ],
      "metadata": {
        "id": "MdCleVYd2JTF"
      },
      "execution_count": 828,
      "outputs": []
    },
    {
      "cell_type": "code",
      "source": [
        "#input_values = np.round(np.arange(-1, 1, 0.1), decimals=2)\n",
        "\n",
        "\n",
        "def approximate_function():\n",
        "  winner = {}\n",
        "  num_candidates = 100\n",
        "  num_generations = 100\n",
        "  num_of_best = int(np.floor(num_candidates/10))\n",
        "  num_mates_for_best = 10\n",
        "  order = 9\n",
        "  for index, target in enumerate([target_pos, target_neg]):\n",
        "    input_values = target.keys()\n",
        "    candidates = []\n",
        "    for _ in range(0,num_candidates):\n",
        "      candidates.append(make_random_genome(order))\n",
        "    for generation in range(0, num_generations):\n",
        "\n",
        "      for genome in candidates:\n",
        "        genome = test_fitness(input_values, genome, target).fitness\n",
        "\n",
        "      candidates.sort(key = lambda x: x.fitness)\n",
        "\n",
        "      best_genomes = candidates[:num_of_best]\n",
        "\n",
        "      # print(f\"\\nBest of generation {generation}: {best_genomes[0].fitness}\")\n",
        "\n",
        "      new_generation = []\n",
        "      for i in range(0, num_of_best):\n",
        "        for j in range(i + 1, i + num_mates_for_best):\n",
        "          new_generation.append(new_genome_from_parents(best_genomes[i], candidates[j]))\n",
        "        \n",
        "      candidates = best_genomes + new_generation\n",
        "      # print(len(candidates))\n",
        "\n",
        "    winner[index] = candidates[0]\n",
        "    #print(f\"Best genome after {num_generations} generations:\")\n",
        "    #print(winner[index])\n",
        "    #for i, k in enumerate(target):\n",
        "    #  print(f\"{k} -> {target[k]}\")\n",
        "  return winner"
      ],
      "metadata": {
        "id": "NknBr-INJ8FG"
      },
      "execution_count": 829,
      "outputs": []
    },
    {
      "cell_type": "code",
      "source": [
        "#winner = approximate_function()"
      ],
      "metadata": {
        "id": "8bv1HCjC9Ppx"
      },
      "execution_count": 830,
      "outputs": []
    },
    {
      "cell_type": "code",
      "source": [
        "winner = approximate_function()\n",
        "input_pos = list(winner[0].lookup_table.keys())\n",
        "output_pos = list(winner[0].lookup_table.values())\n",
        "target_values_pos = list(target_pos.values())\n",
        "\n",
        "input_neg = list(winner[1].lookup_table.keys())\n",
        "output_neg = list(winner[1].lookup_table.values())\n",
        "target_values_neg = list(target_neg.values())\n",
        "\n",
        "equation_pos = winner[0].get_equation()\n",
        "equation_neg = winner[1].get_equation()\n",
        "\n",
        "plt.figure(figsize=(12,12))\n",
        "\n",
        "plt.title(r\"Function approximation\")\n",
        "\n",
        "plt.plot(input_pos, output_pos, label=\"approximated\")\n",
        "plt.plot(input_pos, target_values_pos, label=\"target\")\n",
        "\n",
        "plt.plot(input_neg, output_neg, label=\"approximated\")\n",
        "plt.plot(input_neg, target_values_neg, label=\"target\")\n",
        "\n",
        "x = 12/100\n",
        "y = 80/100\n",
        "\n",
        "plt.annotate(\"$f(x) = $\", xy=(x, y), xycoords=\"figure fraction\", fontsize=12)\n",
        "plt.annotate(\"$\\{$\", xy=(x + 4/100, y -2/100), xycoords=\"figure fraction\", fontsize=80)\n",
        "plt.annotate(\"$\"+equation_pos+\", \\mathcal{x} \\geq 0$\", xy=(x + 8/100, y + 2/100), xycoords=\"figure fraction\", fontsize=12)\n",
        "plt.annotate(\"$\"+equation_neg+\", \\mathcal{x} \\less 0$\", xy=(x + 8/100, y + -2/100), xycoords=\"figure fraction\", fontsize=12)\n",
        "\n",
        "plt.grid(alpha=.75)\n",
        "plt.axhline(color=\"black\", alpha=.4)\n",
        "plt.axvline(color=\"black\", alpha=.4)\n",
        "plt.legend()\n",
        "\n",
        "plt.xlim(-1, 1)\n",
        "plt.ylim(-1, 1)\n",
        "\n",
        "plt.ylabel(\"output\")\n",
        "plt.xlabel(\"input\")\n",
        "plt.show()"
      ],
      "metadata": {
        "colab": {
          "base_uri": "https://localhost:8080/",
          "height": 730
        },
        "id": "NZ87GhtP8UHN",
        "outputId": "6e7291db-5db4-4d81-f340-337aed265487"
      },
      "execution_count": 831,
      "outputs": [
        {
          "output_type": "display_data",
          "data": {
            "text/plain": [
              "<Figure size 864x864 with 1 Axes>"
            ],
            "image/png": "[encoded data removed]"
          },
          "metadata": {
            "needs_background": "light"
          }
        }
      ]
    },
    {
      "cell_type": "code",
      "source": [
        "winner[0].get_equation_math()"
      ],
      "metadata": {
        "colab": {
          "base_uri": "https://localhost:8080/",
          "height": 35
        },
        "id": "Pmuik6SpLlp4",
        "outputId": "4f05e01a-0836-483e-c687-1fdc7b08d6e4"
      },
      "execution_count": 832,
      "outputs": [
        {
          "output_type": "execute_result",
          "data": {
            "text/plain": [
              "'0.3241*x**9+0.669*x**8-0.2847*x**7-0.3289*x**6-0.6122*x**5-0.9505*x**4+0.3123*x**3+0.6177*x**2+1.1317*x'"
            ],
            "application/vnd.google.colaboratory.intrinsic+json": {
              "type": "string"
            }
          },
          "metadata": {},
          "execution_count": 832
        }
      ]
    }
  ]
}